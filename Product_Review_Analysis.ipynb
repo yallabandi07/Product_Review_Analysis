{
  "nbformat": 4,
  "nbformat_minor": 0,
  "metadata": {
    "colab": {
      "provenance": []
    },
    "kernelspec": {
      "name": "python3",
      "display_name": "Python 3"
    },
    "language_info": {
      "name": "python"
    }
  },
  "cells": [
    {
      "cell_type": "markdown",
      "source": [
        "\n",
        "**Installing Packages**"
      ],
      "metadata": {
        "id": "aY76CklEltxG"
      }
    },
    {
      "cell_type": "code",
      "execution_count": 1,
      "metadata": {
        "colab": {
          "base_uri": "https://localhost:8080/"
        },
        "id": "7VYH38AbiF4U",
        "outputId": "b0adbe8c-2fe1-461e-c68a-581c4bad83e8"
      },
      "outputs": [
        {
          "output_type": "stream",
          "name": "stdout",
          "text": [
            "Collecting pytextrank\n",
            "  Downloading pytextrank-3.3.0-py3-none-any.whl.metadata (12 kB)\n",
            "Requirement already satisfied: GitPython>=3.1 in /usr/local/lib/python3.10/dist-packages (from pytextrank) (3.1.43)\n",
            "Requirement already satisfied: graphviz>=0.13 in /usr/local/lib/python3.10/dist-packages (from pytextrank) (0.20.3)\n",
            "Collecting icecream>=2.1 (from pytextrank)\n",
            "  Downloading icecream-2.1.3-py2.py3-none-any.whl.metadata (1.4 kB)\n",
            "Requirement already satisfied: networkx>=2.6 in /usr/local/lib/python3.10/dist-packages (from networkx[default]>=2.6->pytextrank) (3.4.2)\n",
            "Requirement already satisfied: pygments>=2.7.4 in /usr/local/lib/python3.10/dist-packages (from pytextrank) (2.18.0)\n",
            "Requirement already satisfied: scipy>=1.7 in /usr/local/lib/python3.10/dist-packages (from pytextrank) (1.13.1)\n",
            "Requirement already satisfied: spacy>=3.0 in /usr/local/lib/python3.10/dist-packages (from pytextrank) (3.7.5)\n",
            "Requirement already satisfied: gitdb<5,>=4.0.1 in /usr/local/lib/python3.10/dist-packages (from GitPython>=3.1->pytextrank) (4.0.11)\n",
            "Collecting colorama>=0.3.9 (from icecream>=2.1->pytextrank)\n",
            "  Downloading colorama-0.4.6-py2.py3-none-any.whl.metadata (17 kB)\n",
            "Collecting executing>=0.3.1 (from icecream>=2.1->pytextrank)\n",
            "  Downloading executing-2.1.0-py2.py3-none-any.whl.metadata (8.9 kB)\n",
            "Collecting asttokens>=2.0.1 (from icecream>=2.1->pytextrank)\n",
            "  Downloading asttokens-3.0.0-py3-none-any.whl.metadata (4.7 kB)\n",
            "Requirement already satisfied: numpy>=1.24 in /usr/local/lib/python3.10/dist-packages (from networkx[default]>=2.6->pytextrank) (1.26.4)\n",
            "Requirement already satisfied: matplotlib>=3.7 in /usr/local/lib/python3.10/dist-packages (from networkx[default]>=2.6->pytextrank) (3.8.0)\n",
            "Requirement already satisfied: pandas>=2.0 in /usr/local/lib/python3.10/dist-packages (from networkx[default]>=2.6->pytextrank) (2.2.2)\n",
            "Requirement already satisfied: spacy-legacy<3.1.0,>=3.0.11 in /usr/local/lib/python3.10/dist-packages (from spacy>=3.0->pytextrank) (3.0.12)\n",
            "Requirement already satisfied: spacy-loggers<2.0.0,>=1.0.0 in /usr/local/lib/python3.10/dist-packages (from spacy>=3.0->pytextrank) (1.0.5)\n",
            "Requirement already satisfied: murmurhash<1.1.0,>=0.28.0 in /usr/local/lib/python3.10/dist-packages (from spacy>=3.0->pytextrank) (1.0.11)\n",
            "Requirement already satisfied: cymem<2.1.0,>=2.0.2 in /usr/local/lib/python3.10/dist-packages (from spacy>=3.0->pytextrank) (2.0.10)\n",
            "Requirement already satisfied: preshed<3.1.0,>=3.0.2 in /usr/local/lib/python3.10/dist-packages (from spacy>=3.0->pytextrank) (3.0.9)\n",
            "Requirement already satisfied: thinc<8.3.0,>=8.2.2 in /usr/local/lib/python3.10/dist-packages (from spacy>=3.0->pytextrank) (8.2.5)\n",
            "Requirement already satisfied: wasabi<1.2.0,>=0.9.1 in /usr/local/lib/python3.10/dist-packages (from spacy>=3.0->pytextrank) (1.1.3)\n",
            "Requirement already satisfied: srsly<3.0.0,>=2.4.3 in /usr/local/lib/python3.10/dist-packages (from spacy>=3.0->pytextrank) (2.4.8)\n",
            "Requirement already satisfied: catalogue<2.1.0,>=2.0.6 in /usr/local/lib/python3.10/dist-packages (from spacy>=3.0->pytextrank) (2.0.10)\n",
            "Requirement already satisfied: weasel<0.5.0,>=0.1.0 in /usr/local/lib/python3.10/dist-packages (from spacy>=3.0->pytextrank) (0.4.1)\n",
            "Requirement already satisfied: typer<1.0.0,>=0.3.0 in /usr/local/lib/python3.10/dist-packages (from spacy>=3.0->pytextrank) (0.15.0)\n",
            "Requirement already satisfied: tqdm<5.0.0,>=4.38.0 in /usr/local/lib/python3.10/dist-packages (from spacy>=3.0->pytextrank) (4.66.6)\n",
            "Requirement already satisfied: requests<3.0.0,>=2.13.0 in /usr/local/lib/python3.10/dist-packages (from spacy>=3.0->pytextrank) (2.32.3)\n",
            "Requirement already satisfied: pydantic!=1.8,!=1.8.1,<3.0.0,>=1.7.4 in /usr/local/lib/python3.10/dist-packages (from spacy>=3.0->pytextrank) (2.10.3)\n",
            "Requirement already satisfied: jinja2 in /usr/local/lib/python3.10/dist-packages (from spacy>=3.0->pytextrank) (3.1.4)\n",
            "Requirement already satisfied: setuptools in /usr/local/lib/python3.10/dist-packages (from spacy>=3.0->pytextrank) (75.1.0)\n",
            "Requirement already satisfied: packaging>=20.0 in /usr/local/lib/python3.10/dist-packages (from spacy>=3.0->pytextrank) (24.2)\n",
            "Requirement already satisfied: langcodes<4.0.0,>=3.2.0 in /usr/local/lib/python3.10/dist-packages (from spacy>=3.0->pytextrank) (3.5.0)\n",
            "Requirement already satisfied: smmap<6,>=3.0.1 in /usr/local/lib/python3.10/dist-packages (from gitdb<5,>=4.0.1->GitPython>=3.1->pytextrank) (5.0.1)\n",
            "Requirement already satisfied: language-data>=1.2 in /usr/local/lib/python3.10/dist-packages (from langcodes<4.0.0,>=3.2.0->spacy>=3.0->pytextrank) (1.3.0)\n",
            "Requirement already satisfied: contourpy>=1.0.1 in /usr/local/lib/python3.10/dist-packages (from matplotlib>=3.7->networkx[default]>=2.6->pytextrank) (1.3.1)\n",
            "Requirement already satisfied: cycler>=0.10 in /usr/local/lib/python3.10/dist-packages (from matplotlib>=3.7->networkx[default]>=2.6->pytextrank) (0.12.1)\n",
            "Requirement already satisfied: fonttools>=4.22.0 in /usr/local/lib/python3.10/dist-packages (from matplotlib>=3.7->networkx[default]>=2.6->pytextrank) (4.55.1)\n",
            "Requirement already satisfied: kiwisolver>=1.0.1 in /usr/local/lib/python3.10/dist-packages (from matplotlib>=3.7->networkx[default]>=2.6->pytextrank) (1.4.7)\n",
            "Requirement already satisfied: pillow>=6.2.0 in /usr/local/lib/python3.10/dist-packages (from matplotlib>=3.7->networkx[default]>=2.6->pytextrank) (11.0.0)\n",
            "Requirement already satisfied: pyparsing>=2.3.1 in /usr/local/lib/python3.10/dist-packages (from matplotlib>=3.7->networkx[default]>=2.6->pytextrank) (3.2.0)\n",
            "Requirement already satisfied: python-dateutil>=2.7 in /usr/local/lib/python3.10/dist-packages (from matplotlib>=3.7->networkx[default]>=2.6->pytextrank) (2.8.2)\n",
            "Requirement already satisfied: pytz>=2020.1 in /usr/local/lib/python3.10/dist-packages (from pandas>=2.0->networkx[default]>=2.6->pytextrank) (2024.2)\n",
            "Requirement already satisfied: tzdata>=2022.7 in /usr/local/lib/python3.10/dist-packages (from pandas>=2.0->networkx[default]>=2.6->pytextrank) (2024.2)\n",
            "Requirement already satisfied: annotated-types>=0.6.0 in /usr/local/lib/python3.10/dist-packages (from pydantic!=1.8,!=1.8.1,<3.0.0,>=1.7.4->spacy>=3.0->pytextrank) (0.7.0)\n",
            "Requirement already satisfied: pydantic-core==2.27.1 in /usr/local/lib/python3.10/dist-packages (from pydantic!=1.8,!=1.8.1,<3.0.0,>=1.7.4->spacy>=3.0->pytextrank) (2.27.1)\n",
            "Requirement already satisfied: typing-extensions>=4.12.2 in /usr/local/lib/python3.10/dist-packages (from pydantic!=1.8,!=1.8.1,<3.0.0,>=1.7.4->spacy>=3.0->pytextrank) (4.12.2)\n",
            "Requirement already satisfied: charset-normalizer<4,>=2 in /usr/local/lib/python3.10/dist-packages (from requests<3.0.0,>=2.13.0->spacy>=3.0->pytextrank) (3.4.0)\n",
            "Requirement already satisfied: idna<4,>=2.5 in /usr/local/lib/python3.10/dist-packages (from requests<3.0.0,>=2.13.0->spacy>=3.0->pytextrank) (3.10)\n",
            "Requirement already satisfied: urllib3<3,>=1.21.1 in /usr/local/lib/python3.10/dist-packages (from requests<3.0.0,>=2.13.0->spacy>=3.0->pytextrank) (2.2.3)\n",
            "Requirement already satisfied: certifi>=2017.4.17 in /usr/local/lib/python3.10/dist-packages (from requests<3.0.0,>=2.13.0->spacy>=3.0->pytextrank) (2024.8.30)\n",
            "Requirement already satisfied: blis<0.8.0,>=0.7.8 in /usr/local/lib/python3.10/dist-packages (from thinc<8.3.0,>=8.2.2->spacy>=3.0->pytextrank) (0.7.11)\n",
            "Requirement already satisfied: confection<1.0.0,>=0.0.1 in /usr/local/lib/python3.10/dist-packages (from thinc<8.3.0,>=8.2.2->spacy>=3.0->pytextrank) (0.1.5)\n",
            "Requirement already satisfied: click>=8.0.0 in /usr/local/lib/python3.10/dist-packages (from typer<1.0.0,>=0.3.0->spacy>=3.0->pytextrank) (8.1.7)\n",
            "Requirement already satisfied: shellingham>=1.3.0 in /usr/local/lib/python3.10/dist-packages (from typer<1.0.0,>=0.3.0->spacy>=3.0->pytextrank) (1.5.4)\n",
            "Requirement already satisfied: rich>=10.11.0 in /usr/local/lib/python3.10/dist-packages (from typer<1.0.0,>=0.3.0->spacy>=3.0->pytextrank) (13.9.4)\n",
            "Requirement already satisfied: cloudpathlib<1.0.0,>=0.7.0 in /usr/local/lib/python3.10/dist-packages (from weasel<0.5.0,>=0.1.0->spacy>=3.0->pytextrank) (0.20.0)\n",
            "Requirement already satisfied: smart-open<8.0.0,>=5.2.1 in /usr/local/lib/python3.10/dist-packages (from weasel<0.5.0,>=0.1.0->spacy>=3.0->pytextrank) (7.0.5)\n",
            "Requirement already satisfied: MarkupSafe>=2.0 in /usr/local/lib/python3.10/dist-packages (from jinja2->spacy>=3.0->pytextrank) (3.0.2)\n",
            "Requirement already satisfied: marisa-trie>=1.1.0 in /usr/local/lib/python3.10/dist-packages (from language-data>=1.2->langcodes<4.0.0,>=3.2.0->spacy>=3.0->pytextrank) (1.2.1)\n",
            "Requirement already satisfied: six>=1.5 in /usr/local/lib/python3.10/dist-packages (from python-dateutil>=2.7->matplotlib>=3.7->networkx[default]>=2.6->pytextrank) (1.16.0)\n",
            "Requirement already satisfied: markdown-it-py>=2.2.0 in /usr/local/lib/python3.10/dist-packages (from rich>=10.11.0->typer<1.0.0,>=0.3.0->spacy>=3.0->pytextrank) (3.0.0)\n",
            "Requirement already satisfied: wrapt in /usr/local/lib/python3.10/dist-packages (from smart-open<8.0.0,>=5.2.1->weasel<0.5.0,>=0.1.0->spacy>=3.0->pytextrank) (1.17.0)\n",
            "Requirement already satisfied: mdurl~=0.1 in /usr/local/lib/python3.10/dist-packages (from markdown-it-py>=2.2.0->rich>=10.11.0->typer<1.0.0,>=0.3.0->spacy>=3.0->pytextrank) (0.1.2)\n",
            "Downloading pytextrank-3.3.0-py3-none-any.whl (26 kB)\n",
            "Downloading icecream-2.1.3-py2.py3-none-any.whl (8.4 kB)\n",
            "Downloading asttokens-3.0.0-py3-none-any.whl (26 kB)\n",
            "Downloading colorama-0.4.6-py2.py3-none-any.whl (25 kB)\n",
            "Downloading executing-2.1.0-py2.py3-none-any.whl (25 kB)\n",
            "Installing collected packages: executing, colorama, asttokens, icecream, pytextrank\n",
            "Successfully installed asttokens-3.0.0 colorama-0.4.6 executing-2.1.0 icecream-2.1.3 pytextrank-3.3.0\n"
          ]
        }
      ],
      "source": [
        "pip install pytextrank"
      ]
    },
    {
      "cell_type": "code",
      "source": [
        "pip install textblob"
      ],
      "metadata": {
        "colab": {
          "base_uri": "https://localhost:8080/"
        },
        "id": "bIgXtaW5knjp",
        "outputId": "d0bf14ec-1f0a-4f77-c3c2-8d3bb0d6ec41"
      },
      "execution_count": 2,
      "outputs": [
        {
          "output_type": "stream",
          "name": "stdout",
          "text": [
            "Requirement already satisfied: textblob in /usr/local/lib/python3.10/dist-packages (0.17.1)\n",
            "Requirement already satisfied: nltk>=3.1 in /usr/local/lib/python3.10/dist-packages (from textblob) (3.9.1)\n",
            "Requirement already satisfied: click in /usr/local/lib/python3.10/dist-packages (from nltk>=3.1->textblob) (8.1.7)\n",
            "Requirement already satisfied: joblib in /usr/local/lib/python3.10/dist-packages (from nltk>=3.1->textblob) (1.4.2)\n",
            "Requirement already satisfied: regex>=2021.8.3 in /usr/local/lib/python3.10/dist-packages (from nltk>=3.1->textblob) (2024.9.11)\n",
            "Requirement already satisfied: tqdm in /usr/local/lib/python3.10/dist-packages (from nltk>=3.1->textblob) (4.66.6)\n"
          ]
        }
      ]
    },
    {
      "cell_type": "code",
      "source": [
        "import spacy.cli\n",
        "spacy.cli.download(\"en_core_web_lg\")"
      ],
      "metadata": {
        "colab": {
          "base_uri": "https://localhost:8080/"
        },
        "id": "PjyuPgdRkwL_",
        "outputId": "6f0fbae2-16e5-4f88-94a8-588b26721bf0"
      },
      "execution_count": 3,
      "outputs": [
        {
          "output_type": "stream",
          "name": "stdout",
          "text": [
            "\u001b[38;5;2m✔ Download and installation successful\u001b[0m\n",
            "You can now load the package via spacy.load('en_core_web_lg')\n",
            "\u001b[38;5;3m⚠ Restart to reload dependencies\u001b[0m\n",
            "If you are in a Jupyter or Colab notebook, you may need to restart Python in\n",
            "order to load all the package's dependencies. You can do this by selecting the\n",
            "'Restart kernel' or 'Restart runtime' option.\n"
          ]
        }
      ]
    },
    {
      "cell_type": "code",
      "source": [
        "import nltk\n",
        "nltk.download('stopwords')\n",
        "nltk.download('punkt')\n",
        "nltk.download('punkt_tab')\n",
        "nltk.download('averaged_perceptron_tagger')\n",
        "nltk.download('wordnet')"
      ],
      "metadata": {
        "colab": {
          "base_uri": "https://localhost:8080/"
        },
        "id": "LPRhw0-8knWj",
        "outputId": "504b7d0c-388b-401f-b3b4-99e55b07cb8b"
      },
      "execution_count": 4,
      "outputs": [
        {
          "output_type": "stream",
          "name": "stderr",
          "text": [
            "[nltk_data] Downloading package stopwords to /root/nltk_data...\n",
            "[nltk_data]   Unzipping corpora/stopwords.zip.\n",
            "[nltk_data] Downloading package punkt to /root/nltk_data...\n",
            "[nltk_data]   Unzipping tokenizers/punkt.zip.\n",
            "[nltk_data] Downloading package punkt_tab to /root/nltk_data...\n",
            "[nltk_data]   Unzipping tokenizers/punkt_tab.zip.\n",
            "[nltk_data] Downloading package averaged_perceptron_tagger to\n",
            "[nltk_data]     /root/nltk_data...\n",
            "[nltk_data]   Unzipping taggers/averaged_perceptron_tagger.zip.\n",
            "[nltk_data] Downloading package wordnet to /root/nltk_data...\n"
          ]
        },
        {
          "output_type": "execute_result",
          "data": {
            "text/plain": [
              "True"
            ]
          },
          "metadata": {},
          "execution_count": 4
        }
      ]
    },
    {
      "cell_type": "markdown",
      "source": [
        "**Importing Modules**"
      ],
      "metadata": {
        "id": "57TLukFDmFW_"
      }
    },
    {
      "cell_type": "code",
      "source": [
        "# Data manipulation and preprocessing\n",
        "import pandas as pd\n",
        "from sklearn.model_selection import train_test_split\n",
        "\n",
        "# Text processing and NLP\n",
        "import re\n",
        "from textblob import TextBlob\n",
        "from nltk.corpus import stopwords\n",
        "from nltk.tokenize import word_tokenize\n",
        "\n",
        "# Feature extraction\n",
        "from sklearn.feature_extraction.text import TfidfVectorizer\n",
        "\n",
        "# Machine learning models and evaluation\n",
        "from sklearn.linear_model import LogisticRegression\n",
        "from sklearn.metrics import accuracy_score, classification_report\n",
        "\n",
        "# Visualization\n",
        "import matplotlib.pyplot as plt\n",
        "import seaborn as sns"
      ],
      "metadata": {
        "id": "YbltnstNkqKv"
      },
      "execution_count": 6,
      "outputs": []
    },
    {
      "cell_type": "markdown",
      "source": [
        "**Dataset**"
      ],
      "metadata": {
        "id": "W-8GPXAkmK21"
      }
    },
    {
      "cell_type": "code",
      "source": [
        "# Load the dataset\n",
        "data = pd.read_csv('/content/Samsung Galaxy M11 (Black, 32 GB) Reviews.csv')"
      ],
      "metadata": {
        "id": "axoObKyrk7wm"
      },
      "execution_count": 7,
      "outputs": []
    },
    {
      "cell_type": "code",
      "source": [
        "data.info()"
      ],
      "metadata": {
        "colab": {
          "base_uri": "https://localhost:8080/"
        },
        "id": "HPgV1m47k-6K",
        "outputId": "263e8bf4-dcde-46c1-d249-1023ec901930"
      },
      "execution_count": 8,
      "outputs": [
        {
          "output_type": "stream",
          "name": "stdout",
          "text": [
            "<class 'pandas.core.frame.DataFrame'>\n",
            "RangeIndex: 570 entries, 0 to 569\n",
            "Data columns (total 3 columns):\n",
            " #   Column    Non-Null Count  Dtype  \n",
            "---  ------    --------------  -----  \n",
            " 0   Rating    494 non-null    float64\n",
            " 1   Review    570 non-null    object \n",
            " 2   Comments  570 non-null    object \n",
            "dtypes: float64(1), object(2)\n",
            "memory usage: 13.5+ KB\n"
          ]
        }
      ]
    },
    {
      "cell_type": "code",
      "source": [
        "data.head()"
      ],
      "metadata": {
        "colab": {
          "base_uri": "https://localhost:8080/",
          "height": 206
        },
        "id": "mO8wp8oolAuD",
        "outputId": "003a661a-72b1-4ead-e37c-46a21a89fe72"
      },
      "execution_count": 9,
      "outputs": [
        {
          "output_type": "execute_result",
          "data": {
            "text/plain": [
              "   Rating                        Review  \\\n",
              "0     4.0                   Good choice   \n",
              "1     5.0  Fabulous! SAMSUNG GALAXY M11   \n",
              "2     5.0             Terrific purchase   \n",
              "3     4.0               Worth the money   \n",
              "4     5.0                     Just wow!   \n",
              "\n",
              "                                            Comments  \n",
              "0  Great mobile very handy and cool look.Positive...  \n",
              "1  Very nice phone, fast and safely delivered, pa...  \n",
              "2  It's an excellent product for normal use and f...  \n",
              "3  Multimedia  experience on this device is reall...  \n",
              "4  Very nice phone. rear camera is awesome but fr...  "
            ],
            "text/html": [
              "\n",
              "  <div id=\"df-97ed2588-ad01-4c83-93ed-30a5159f0d71\" class=\"colab-df-container\">\n",
              "    <div>\n",
              "<style scoped>\n",
              "    .dataframe tbody tr th:only-of-type {\n",
              "        vertical-align: middle;\n",
              "    }\n",
              "\n",
              "    .dataframe tbody tr th {\n",
              "        vertical-align: top;\n",
              "    }\n",
              "\n",
              "    .dataframe thead th {\n",
              "        text-align: right;\n",
              "    }\n",
              "</style>\n",
              "<table border=\"1\" class=\"dataframe\">\n",
              "  <thead>\n",
              "    <tr style=\"text-align: right;\">\n",
              "      <th></th>\n",
              "      <th>Rating</th>\n",
              "      <th>Review</th>\n",
              "      <th>Comments</th>\n",
              "    </tr>\n",
              "  </thead>\n",
              "  <tbody>\n",
              "    <tr>\n",
              "      <th>0</th>\n",
              "      <td>4.0</td>\n",
              "      <td>Good choice</td>\n",
              "      <td>Great mobile very handy and cool look.Positive...</td>\n",
              "    </tr>\n",
              "    <tr>\n",
              "      <th>1</th>\n",
              "      <td>5.0</td>\n",
              "      <td>Fabulous! SAMSUNG GALAXY M11</td>\n",
              "      <td>Very nice phone, fast and safely delivered, pa...</td>\n",
              "    </tr>\n",
              "    <tr>\n",
              "      <th>2</th>\n",
              "      <td>5.0</td>\n",
              "      <td>Terrific purchase</td>\n",
              "      <td>It's an excellent product for normal use and f...</td>\n",
              "    </tr>\n",
              "    <tr>\n",
              "      <th>3</th>\n",
              "      <td>4.0</td>\n",
              "      <td>Worth the money</td>\n",
              "      <td>Multimedia  experience on this device is reall...</td>\n",
              "    </tr>\n",
              "    <tr>\n",
              "      <th>4</th>\n",
              "      <td>5.0</td>\n",
              "      <td>Just wow!</td>\n",
              "      <td>Very nice phone. rear camera is awesome but fr...</td>\n",
              "    </tr>\n",
              "  </tbody>\n",
              "</table>\n",
              "</div>\n",
              "    <div class=\"colab-df-buttons\">\n",
              "\n",
              "  <div class=\"colab-df-container\">\n",
              "    <button class=\"colab-df-convert\" onclick=\"convertToInteractive('df-97ed2588-ad01-4c83-93ed-30a5159f0d71')\"\n",
              "            title=\"Convert this dataframe to an interactive table.\"\n",
              "            style=\"display:none;\">\n",
              "\n",
              "  <svg xmlns=\"http://www.w3.org/2000/svg\" height=\"24px\" viewBox=\"0 -960 960 960\">\n",
              "    <path d=\"M120-120v-720h720v720H120Zm60-500h600v-160H180v160Zm220 220h160v-160H400v160Zm0 220h160v-160H400v160ZM180-400h160v-160H180v160Zm440 0h160v-160H620v160ZM180-180h160v-160H180v160Zm440 0h160v-160H620v160Z\"/>\n",
              "  </svg>\n",
              "    </button>\n",
              "\n",
              "  <style>\n",
              "    .colab-df-container {\n",
              "      display:flex;\n",
              "      gap: 12px;\n",
              "    }\n",
              "\n",
              "    .colab-df-convert {\n",
              "      background-color: #E8F0FE;\n",
              "      border: none;\n",
              "      border-radius: 50%;\n",
              "      cursor: pointer;\n",
              "      display: none;\n",
              "      fill: #1967D2;\n",
              "      height: 32px;\n",
              "      padding: 0 0 0 0;\n",
              "      width: 32px;\n",
              "    }\n",
              "\n",
              "    .colab-df-convert:hover {\n",
              "      background-color: #E2EBFA;\n",
              "      box-shadow: 0px 1px 2px rgba(60, 64, 67, 0.3), 0px 1px 3px 1px rgba(60, 64, 67, 0.15);\n",
              "      fill: #174EA6;\n",
              "    }\n",
              "\n",
              "    .colab-df-buttons div {\n",
              "      margin-bottom: 4px;\n",
              "    }\n",
              "\n",
              "    [theme=dark] .colab-df-convert {\n",
              "      background-color: #3B4455;\n",
              "      fill: #D2E3FC;\n",
              "    }\n",
              "\n",
              "    [theme=dark] .colab-df-convert:hover {\n",
              "      background-color: #434B5C;\n",
              "      box-shadow: 0px 1px 3px 1px rgba(0, 0, 0, 0.15);\n",
              "      filter: drop-shadow(0px 1px 2px rgba(0, 0, 0, 0.3));\n",
              "      fill: #FFFFFF;\n",
              "    }\n",
              "  </style>\n",
              "\n",
              "    <script>\n",
              "      const buttonEl =\n",
              "        document.querySelector('#df-97ed2588-ad01-4c83-93ed-30a5159f0d71 button.colab-df-convert');\n",
              "      buttonEl.style.display =\n",
              "        google.colab.kernel.accessAllowed ? 'block' : 'none';\n",
              "\n",
              "      async function convertToInteractive(key) {\n",
              "        const element = document.querySelector('#df-97ed2588-ad01-4c83-93ed-30a5159f0d71');\n",
              "        const dataTable =\n",
              "          await google.colab.kernel.invokeFunction('convertToInteractive',\n",
              "                                                    [key], {});\n",
              "        if (!dataTable) return;\n",
              "\n",
              "        const docLinkHtml = 'Like what you see? Visit the ' +\n",
              "          '<a target=\"_blank\" href=https://colab.research.google.com/notebooks/data_table.ipynb>data table notebook</a>'\n",
              "          + ' to learn more about interactive tables.';\n",
              "        element.innerHTML = '';\n",
              "        dataTable['output_type'] = 'display_data';\n",
              "        await google.colab.output.renderOutput(dataTable, element);\n",
              "        const docLink = document.createElement('div');\n",
              "        docLink.innerHTML = docLinkHtml;\n",
              "        element.appendChild(docLink);\n",
              "      }\n",
              "    </script>\n",
              "  </div>\n",
              "\n",
              "\n",
              "<div id=\"df-821c72e0-5c01-4983-a66c-6b60497184ed\">\n",
              "  <button class=\"colab-df-quickchart\" onclick=\"quickchart('df-821c72e0-5c01-4983-a66c-6b60497184ed')\"\n",
              "            title=\"Suggest charts\"\n",
              "            style=\"display:none;\">\n",
              "\n",
              "<svg xmlns=\"http://www.w3.org/2000/svg\" height=\"24px\"viewBox=\"0 0 24 24\"\n",
              "     width=\"24px\">\n",
              "    <g>\n",
              "        <path d=\"M19 3H5c-1.1 0-2 .9-2 2v14c0 1.1.9 2 2 2h14c1.1 0 2-.9 2-2V5c0-1.1-.9-2-2-2zM9 17H7v-7h2v7zm4 0h-2V7h2v10zm4 0h-2v-4h2v4z\"/>\n",
              "    </g>\n",
              "</svg>\n",
              "  </button>\n",
              "\n",
              "<style>\n",
              "  .colab-df-quickchart {\n",
              "      --bg-color: #E8F0FE;\n",
              "      --fill-color: #1967D2;\n",
              "      --hover-bg-color: #E2EBFA;\n",
              "      --hover-fill-color: #174EA6;\n",
              "      --disabled-fill-color: #AAA;\n",
              "      --disabled-bg-color: #DDD;\n",
              "  }\n",
              "\n",
              "  [theme=dark] .colab-df-quickchart {\n",
              "      --bg-color: #3B4455;\n",
              "      --fill-color: #D2E3FC;\n",
              "      --hover-bg-color: #434B5C;\n",
              "      --hover-fill-color: #FFFFFF;\n",
              "      --disabled-bg-color: #3B4455;\n",
              "      --disabled-fill-color: #666;\n",
              "  }\n",
              "\n",
              "  .colab-df-quickchart {\n",
              "    background-color: var(--bg-color);\n",
              "    border: none;\n",
              "    border-radius: 50%;\n",
              "    cursor: pointer;\n",
              "    display: none;\n",
              "    fill: var(--fill-color);\n",
              "    height: 32px;\n",
              "    padding: 0;\n",
              "    width: 32px;\n",
              "  }\n",
              "\n",
              "  .colab-df-quickchart:hover {\n",
              "    background-color: var(--hover-bg-color);\n",
              "    box-shadow: 0 1px 2px rgba(60, 64, 67, 0.3), 0 1px 3px 1px rgba(60, 64, 67, 0.15);\n",
              "    fill: var(--button-hover-fill-color);\n",
              "  }\n",
              "\n",
              "  .colab-df-quickchart-complete:disabled,\n",
              "  .colab-df-quickchart-complete:disabled:hover {\n",
              "    background-color: var(--disabled-bg-color);\n",
              "    fill: var(--disabled-fill-color);\n",
              "    box-shadow: none;\n",
              "  }\n",
              "\n",
              "  .colab-df-spinner {\n",
              "    border: 2px solid var(--fill-color);\n",
              "    border-color: transparent;\n",
              "    border-bottom-color: var(--fill-color);\n",
              "    animation:\n",
              "      spin 1s steps(1) infinite;\n",
              "  }\n",
              "\n",
              "  @keyframes spin {\n",
              "    0% {\n",
              "      border-color: transparent;\n",
              "      border-bottom-color: var(--fill-color);\n",
              "      border-left-color: var(--fill-color);\n",
              "    }\n",
              "    20% {\n",
              "      border-color: transparent;\n",
              "      border-left-color: var(--fill-color);\n",
              "      border-top-color: var(--fill-color);\n",
              "    }\n",
              "    30% {\n",
              "      border-color: transparent;\n",
              "      border-left-color: var(--fill-color);\n",
              "      border-top-color: var(--fill-color);\n",
              "      border-right-color: var(--fill-color);\n",
              "    }\n",
              "    40% {\n",
              "      border-color: transparent;\n",
              "      border-right-color: var(--fill-color);\n",
              "      border-top-color: var(--fill-color);\n",
              "    }\n",
              "    60% {\n",
              "      border-color: transparent;\n",
              "      border-right-color: var(--fill-color);\n",
              "    }\n",
              "    80% {\n",
              "      border-color: transparent;\n",
              "      border-right-color: var(--fill-color);\n",
              "      border-bottom-color: var(--fill-color);\n",
              "    }\n",
              "    90% {\n",
              "      border-color: transparent;\n",
              "      border-bottom-color: var(--fill-color);\n",
              "    }\n",
              "  }\n",
              "</style>\n",
              "\n",
              "  <script>\n",
              "    async function quickchart(key) {\n",
              "      const quickchartButtonEl =\n",
              "        document.querySelector('#' + key + ' button');\n",
              "      quickchartButtonEl.disabled = true;  // To prevent multiple clicks.\n",
              "      quickchartButtonEl.classList.add('colab-df-spinner');\n",
              "      try {\n",
              "        const charts = await google.colab.kernel.invokeFunction(\n",
              "            'suggestCharts', [key], {});\n",
              "      } catch (error) {\n",
              "        console.error('Error during call to suggestCharts:', error);\n",
              "      }\n",
              "      quickchartButtonEl.classList.remove('colab-df-spinner');\n",
              "      quickchartButtonEl.classList.add('colab-df-quickchart-complete');\n",
              "    }\n",
              "    (() => {\n",
              "      let quickchartButtonEl =\n",
              "        document.querySelector('#df-821c72e0-5c01-4983-a66c-6b60497184ed button');\n",
              "      quickchartButtonEl.style.display =\n",
              "        google.colab.kernel.accessAllowed ? 'block' : 'none';\n",
              "    })();\n",
              "  </script>\n",
              "</div>\n",
              "\n",
              "    </div>\n",
              "  </div>\n"
            ],
            "application/vnd.google.colaboratory.intrinsic+json": {
              "type": "dataframe",
              "variable_name": "data",
              "summary": "{\n  \"name\": \"data\",\n  \"rows\": 570,\n  \"fields\": [\n    {\n      \"column\": \"Rating\",\n      \"properties\": {\n        \"dtype\": \"number\",\n        \"std\": 0.7719836837177032,\n        \"min\": 3.0,\n        \"max\": 5.0,\n        \"num_unique_values\": 3,\n        \"samples\": [\n          4.0,\n          5.0,\n          3.0\n        ],\n        \"semantic_type\": \"\",\n        \"description\": \"\"\n      }\n    },\n    {\n      \"column\": \"Review\",\n      \"properties\": {\n        \"dtype\": \"category\",\n        \"num_unique_values\": 59,\n        \"samples\": [\n          \"Good choice\",\n          \"Just okay\",\n          \"Worst experience ever!\"\n        ],\n        \"semantic_type\": \"\",\n        \"description\": \"\"\n      }\n    },\n    {\n      \"column\": \"Comments\",\n      \"properties\": {\n        \"dtype\": \"string\",\n        \"num_unique_values\": 423,\n        \"samples\": [\n          \"Loved the phone , best for low budget and very handy..READ MORE\",\n          \"Display is very good battery performance is super but the processor perfomance slow otherwise it is good for normal users.camera is in normal quality.READ MORE\",\n          \"Thanks for giving me flipkartREAD MORE\"\n        ],\n        \"semantic_type\": \"\",\n        \"description\": \"\"\n      }\n    }\n  ]\n}"
            }
          },
          "metadata": {},
          "execution_count": 9
        }
      ]
    },
    {
      "cell_type": "markdown",
      "source": [
        "**Data Visualization**"
      ],
      "metadata": {
        "id": "oxIh8DRrmYvp"
      }
    },
    {
      "cell_type": "code",
      "source": [
        "#Rating Count Plot\n",
        "plt.figure(figsize=(8, 6))\n",
        "sns.countplot(x='Rating', data=data)\n",
        "plt.title('Distribution of Ratings')\n",
        "plt.xlabel('Rating')\n",
        "plt.ylabel('Number of Reviews')\n",
        "plt.show()"
      ],
      "metadata": {
        "colab": {
          "base_uri": "https://localhost:8080/",
          "height": 564
        },
        "id": "dO3jmDcHmpMx",
        "outputId": "28c701ce-da19-41b0-ba9d-1787ebdcb35a"
      },
      "execution_count": 10,
      "outputs": [
        {
          "output_type": "display_data",
          "data": {
            "text/plain": [
              "<Figure size 800x600 with 1 Axes>"
            ],
            "image/png": "[encoded data removed]"
          },
          "metadata": {}
        }
      ]
    },
    {
      "cell_type": "code",
      "source": [
        "sns.kdeplot(data=data, x=\"Rating\")\n",
        "plt.show()"
      ],
      "metadata": {
        "colab": {
          "base_uri": "https://localhost:8080/",
          "height": 449
        },
        "id": "3i4fEiUrmxRO",
        "outputId": "9ed08cd1-8271-42a1-877f-3e3517f781f8"
      },
      "execution_count": 11,
      "outputs": [
        {
          "output_type": "display_data",
          "data": {
            "text/plain": [
              "<Figure size 640x480 with 1 Axes>"
            ],
            "image/png": "[encoded data removed]"
          },
          "metadata": {}
        }
      ]
    },
    {
      "cell_type": "code",
      "source": [
        "#Review or comments Frequency vs No of words\n",
        "data['Review_Length'] = data['Comments'].apply(lambda x: len(x.split()))\n",
        "plt.figure(figsize=(8, 5))\n",
        "sns.histplot(data['Review_Length'], bins=20, kde=True, color='blue')\n",
        "plt.title('Review Length Distribution')\n",
        "plt.xlabel('Number of Words')\n",
        "plt.ylabel('Frequency')\n",
        "plt.show()"
      ],
      "metadata": {
        "colab": {
          "base_uri": "https://localhost:8080/",
          "height": 487
        },
        "id": "B2dRqkO4m3_6",
        "outputId": "81d33a0e-60c7-4358-93f9-98bc9d45b882"
      },
      "execution_count": 12,
      "outputs": [
        {
          "output_type": "display_data",
          "data": {
            "text/plain": [
              "<Figure size 800x500 with 1 Axes>"
            ],
            "image/png": "[encoded data removed]"
          },
          "metadata": {}
        }
      ]
    },
    {
      "cell_type": "code",
      "source": [
        "# Ratings vs. Review Length\n",
        "plt.figure(figsize=(8, 5))\n",
        "sns.boxplot(x='Rating', y='Review_Length', data=data, palette='coolwarm')\n",
        "plt.title('Ratings vs. Review Length')\n",
        "plt.xlabel('Rating')\n",
        "plt.ylabel('Review Length (Word Count)')\n",
        "plt.show()"
      ],
      "metadata": {
        "colab": {
          "base_uri": "https://localhost:8080/",
          "height": 574
        },
        "id": "yvWfwnalnNbA",
        "outputId": "5c541025-86c6-42ef-c830-15294b9d1d4b"
      },
      "execution_count": 13,
      "outputs": [
        {
          "output_type": "stream",
          "name": "stderr",
          "text": [
            "<ipython-input-13-7139906b37b9>:3: FutureWarning: \n",
            "\n",
            "Passing `palette` without assigning `hue` is deprecated and will be removed in v0.14.0. Assign the `x` variable to `hue` and set `legend=False` for the same effect.\n",
            "\n",
            "  sns.boxplot(x='Rating', y='Review_Length', data=data, palette='coolwarm')\n"
          ]
        },
        {
          "output_type": "display_data",
          "data": {
            "text/plain": [
              "<Figure size 800x500 with 1 Axes>"
            ],
            "image/png": "[encoded data removed]"
          },
          "metadata": {}
        }
      ]
    },
    {
      "cell_type": "markdown",
      "source": [
        "**Data Cleaning**"
      ],
      "metadata": {
        "id": "VDDaWLdBnSnB"
      }
    },
    {
      "cell_type": "code",
      "source": [
        "data.isnull().sum()"
      ],
      "metadata": {
        "colab": {
          "base_uri": "https://localhost:8080/",
          "height": 209
        },
        "id": "22lKFqdxnSOj",
        "outputId": "fa94d769-87f7-488b-ad04-f172dd625353"
      },
      "execution_count": 14,
      "outputs": [
        {
          "output_type": "execute_result",
          "data": {
            "text/plain": [
              "Rating           76\n",
              "Review            0\n",
              "Comments          0\n",
              "Review_Length     0\n",
              "dtype: int64"
            ],
            "text/html": [
              "<div>\n",
              "<style scoped>\n",
              "    .dataframe tbody tr th:only-of-type {\n",
              "        vertical-align: middle;\n",
              "    }\n",
              "\n",
              "    .dataframe tbody tr th {\n",
              "        vertical-align: top;\n",
              "    }\n",
              "\n",
              "    .dataframe thead th {\n",
              "        text-align: right;\n",
              "    }\n",
              "</style>\n",
              "<table border=\"1\" class=\"dataframe\">\n",
              "  <thead>\n",
              "    <tr style=\"text-align: right;\">\n",
              "      <th></th>\n",
              "      <th>0</th>\n",
              "    </tr>\n",
              "  </thead>\n",
              "  <tbody>\n",
              "    <tr>\n",
              "      <th>Rating</th>\n",
              "      <td>76</td>\n",
              "    </tr>\n",
              "    <tr>\n",
              "      <th>Review</th>\n",
              "      <td>0</td>\n",
              "    </tr>\n",
              "    <tr>\n",
              "      <th>Comments</th>\n",
              "      <td>0</td>\n",
              "    </tr>\n",
              "    <tr>\n",
              "      <th>Review_Length</th>\n",
              "      <td>0</td>\n",
              "    </tr>\n",
              "  </tbody>\n",
              "</table>\n",
              "</div><br><label><b>dtype:</b> int64</label>"
            ]
          },
          "metadata": {},
          "execution_count": 14
        }
      ]
    },
    {
      "cell_type": "code",
      "source": [
        "data['Rating']=data['Rating'].fillna(data['Rating'].mean())"
      ],
      "metadata": {
        "id": "usxmkrdrnaQF"
      },
      "execution_count": 15,
      "outputs": []
    },
    {
      "cell_type": "code",
      "source": [
        "def preprocess_comment(comment):\n",
        "    comment = re.sub(r'[^\\w\\s]', '', comment)  # Remove special characters\n",
        "    comment = comment.lower().strip()  # Convert to lowercase\n",
        "    return comment\n",
        "\n",
        "data['Comments'] = data['Comments'].apply(preprocess_comment)\n",
        "data['Review'] = data['Review'].apply(preprocess_comment)"
      ],
      "metadata": {
        "id": "l9mdX1hinpN6"
      },
      "execution_count": 16,
      "outputs": []
    },
    {
      "cell_type": "code",
      "source": [
        "data['Full_Text'] = data['Review'] + \" \" + data['Comments']"
      ],
      "metadata": {
        "id": "WXb5uQB1qUX1"
      },
      "execution_count": 17,
      "outputs": []
    },
    {
      "cell_type": "markdown",
      "source": [
        "**Summary Of All Reviews**"
      ],
      "metadata": {
        "id": "uEQNBMsZn168"
      }
    },
    {
      "cell_type": "code",
      "source": [
        "# Step1 : Summary of Reviews\n",
        "\n",
        "import spacy\n",
        "\n",
        "nlp = spacy.load(\"en_core_web_lg\")\n",
        "\n",
        "def summarize_text(text, limit=5):\n",
        "  doc = nlp(text)\n",
        "  sentences = list(doc.sents)\n",
        "  selected_sentences = []\n",
        "\n",
        "  for sentence in sentences:\n",
        "    score = 0\n",
        "    for token in sentence:\n",
        "        score += token.dep_ == \"ROOT\" or token.dep_ == \"nsubj\"\n",
        "    selected_sentences.append((sentence, score))\n",
        "\n",
        "  selected_sentences.sort(key=lambda x: x[1], reverse=True)\n",
        "\n",
        "  summary = \"\"\n",
        "  for sentence, _ in selected_sentences[:limit]:\n",
        "    summary += str(sentence) + \" \"+\"\\n\"\n",
        "\n",
        "  return summary.strip()\n",
        "\n",
        "\n",
        "summary = summarize_text(\" \".join(data['Full_Text']))\n",
        "print(summary)"
      ],
      "metadata": {
        "colab": {
          "base_uri": "https://localhost:8080/"
        },
        "id": "z4OveBUpnujU",
        "outputId": "5e904766-8d51-42b4-8826-e64ffc58033f"
      },
      "execution_count": 18,
      "outputs": [
        {
          "output_type": "stream",
          "name": "stdout",
          "text": [
            "more brilliant slightly slow go for 4gb version phone is goodread more terrible product u cheated meu took yr phone and my money alsoread more worthless mic is not working in handfree moderead more worst experience ever bakwas product dont buyno noread more worth every penny its very good phone and tq flipkart read more awesome it is nice phone for one year after one year its start hangread more excellent fnice picread more very poor camera quality  so poorread more dont waste your money not goodread more must buy very good mobile and flipkart qualityread more classy product amazing phone superfast delivery decent camera superior processor good for gaming alsoread more decent product nice product as brand of sumsung but their are something wrong with me in website show the 15v fast charger and give me 9v fast charger this is not goodread more good choice better take the 4gb ram varient camera could have been better battery is awesome so is screen remember the fingerprint sensor is a bit slow rest is goodread more moderate i just bought this mobile there is lots of issue like call volume problem some time mob hang while i am using app or somethingread more nice fingerprints sensor no workpoor cermraread more perfect product awesome product by samsung tq flipkartread more perfect product awesome product by samsung tq flipkartread more pretty good its okokread more could be way better this hang so muchnot looked like from samsung my earlier phone j7 much faster then itread more nice camara not a great in this timesdisplay size is super but not quality of colour strengthphone performace looks ok not any big lag issues touch and finger print are upto markread more unsatisfactory money westread more good choice good  for price rangeread more moderate phone is good but charging problem charging port is not connecting properlyread more good quality product satisfied with the productfront camera is not very goodback camera is fineread more not recommended at all i want to replace it but my return policy is rejected the device m11 is very poor quality camera quality too badafter clicking camera photo blur type save in galary please dont purchase itread more worthless poor quality display and camera  touch not properly workread more useless product worst front camera  dont busy not for value moneyread more nice price is high  other then the price ok levelread more worst experience ever dont bayread more horrible camra very bad quality i am sugest not sell samsung galaxy m11read more bad quality doesnt seem that its a samsung phone camera is very poor looks like simple phone such as samsung old phone very disappointed with purchaseread more fabulous excellent performanceread more nice product camera is natural no extra effectread more could be way better camera is very bad there was no rating below 1 \n",
            "i have also thought the same but believe me after purchasing the read more very good my honest rating would be 35 out of 5 camera and display quality is beloe the bar battery backup is amazing pubg is running fine without lag  android 10 and user friendly interface elegant look makes it worth the money expecting a better made in india at this range of money would be injusticeread more best in the market i was looking for a non chinese budget smart phone for my mother to be able to have daily video calls with her and this mobile fits the bill perfectly she is happy using it and video image is crisp with clear sound a big hats off to the flipkart delivery service for making sure the order reached on time without any damage during this difficult times thank you flipkart and ekart for enabling me to meet my mother from abroad on a daily basis read more brilliant it quite an awesome product but its quite overpriced if you like you can go for other company like realme which gives much better specs in the same price range but the delivery service of flipkart was very satisfying i got the product on next day of order thank you flipkart read more perfect product the mobile works really good actually  better  than expected and the payment  didnt  took much time  either  it was really  convenient  during this time of pandemic  i hope for your good health  and thank you for making  our shopping  experience  goodread more very good \n",
            "my phone  damagei retun my phoneread more good choice display is very good battery performance is super but the processor perfomance slow otherwise it is good for normal userscamera is in normal qualityread more must buy processing is very badread more absolute rubbish i have been long time fan of samsung but this series m11 is disappointing pathetic product  not acceptable from samsung  speaker stopped working after 15days of use phone hangs and heating problem there are other sub standard phones with a better build quality then samsung over promised but under delivered please if cant meet expectations or cannot provide service stop promising the same i expect complete replacement of the product or my money back others please dont buyread more simply awesome nice mobileread more fair this phone is not at all made for camera centric users the front camera is of no use but its overall a great device for daily usage with a great battery life and good performance with the snapdragon 450 socthe camera struggles a lot just because of the absence of the gyroscope sensor also the display is a tft panel so the color reproduction is not good as the colours are not punchybut if u are gifting it to your parents it will be great device in this budget segmentread more fair not badread more must buy nice phoneread more worth the money nice productread more pretty good great product superb finger sensor camera qualityslightly challenging while opening sim slotbut thats easily manageableread more wonderful superread more nice goodread more good quality product its okay for this price all aspects are alright except the displaread more awesome excellent read more nice not good as a price not okread more not recommended at all thats is like a old phoneread more just wow super mint blowing purchase its ram and rom is very fast its battery is high backup and it is fast charging 3 hrs to charge 0 \n",
            "i think they are quite overpriced thank youread more highly recommended got it for 11kworth my moneycamera is not badbattery and charging is amazingothers are gooddelivery was also goodgreat purchaseread more wonderful this phone is battery monsteri charged my phone 2 days earlier its still 48this is with 8x zoom it can also take group selfie it gets 100in near about 55minsi am very impressed with this phone i would recommend you not to miss this phone         hindi chini byebyeread more nice product is best in this price but faced issue in opening sim tray finally went to shop and openedthis is only disappointmentread more dont waste your money  real review after buying this samsung m11prosi really doesnt see the pros in this model reason in this phone price too much high in this range but some were listed belowmay be battery is goodyou can uninstall any apps even default apps low weightconscamera quality is worse at this price range  night time and indoor shoot is worse worse in low light selfie camera wide options this all not having that much quality its all looking like we are shooting in a 2mp cameramain bug   unwantedread more unsatisfactory i dont know if it was a problem with only the device i received \n",
            "wow wow nice phone good quality sound and display read more nice product phone is good and working properlyread more valueformoney battery backup is efficientcamera and display are goodperformance also okprice is much higher than its rival brandsread more worth every penny nice mobileread more wonderful goodread more really nice goodread more decent product gdread more terrific purchase goodread more brilliant batter then samsung a50read more nice overall phone is good camera quality is really poor and screen is also not that vibrant colour maturity is not thereread more terrific goodread more excellent good product in budget range smart mobile more over an excellent service from flipkart  delivered in time thanks flipcart read more delightful value for moneyread more classy product not badread more good good but price moreread more nice if you buy a smartphone for normal use then this phone is perfect if you think about good pictures game then i suggest this phone is not for youread more delightful fast delivery by flipcart nice productread more just\n"
          ]
        }
      ]
    },
    {
      "cell_type": "markdown",
      "source": [
        "**Sentiment Analysis**"
      ],
      "metadata": {
        "id": "SHL8_ODToe9O"
      }
    },
    {
      "cell_type": "code",
      "source": [
        "def classify_sentiment(text):\n",
        "\n",
        "    analysis = TextBlob(text)\n",
        "\n",
        "    if analysis.sentiment.polarity > 0.2:\n",
        "        return \"Positive\"\n",
        "\n",
        "    elif analysis.sentiment.polarity < -0.2:\n",
        "        return \"Negative\"\n",
        "\n",
        "    else:\n",
        "        return \"Neutral\"\n",
        "\n",
        "data['Sentiment'] = data['Full_Text'].apply(classify_sentiment)"
      ],
      "metadata": {
        "id": "i_SEDtOKqknd"
      },
      "execution_count": 19,
      "outputs": []
    },
    {
      "cell_type": "code",
      "source": [
        "sentiment_counts = data['Sentiment'].value_counts()\n",
        "\n",
        "plt.figure(figsize=(8, 5))\n",
        "sns.barplot(x=sentiment_counts.index, y=sentiment_counts.values, palette=\"viridis\")\n",
        "plt.title(\"Sentiment Distribution\", fontsize=16)\n",
        "plt.xlabel(\"Sentiment\", fontsize=14)\n",
        "plt.ylabel(\"Number of Reviews\", fontsize=14)\n",
        "plt.xticks(fontsize=12)\n",
        "plt.yticks(fontsize=12)\n",
        "plt.show()"
      ],
      "metadata": {
        "colab": {
          "base_uri": "https://localhost:8080/",
          "height": 585
        },
        "id": "2FBZeOuGwO0v",
        "outputId": "e3ef293b-68f9-4b4e-bc7c-b415444ab91f"
      },
      "execution_count": 20,
      "outputs": [
        {
          "output_type": "stream",
          "name": "stderr",
          "text": [
            "<ipython-input-20-2d174b99f1a6>:4: FutureWarning: \n",
            "\n",
            "Passing `palette` without assigning `hue` is deprecated and will be removed in v0.14.0. Assign the `x` variable to `hue` and set `legend=False` for the same effect.\n",
            "\n",
            "  sns.barplot(x=sentiment_counts.index, y=sentiment_counts.values, palette=\"viridis\")\n"
          ]
        },
        {
          "output_type": "display_data",
          "data": {
            "text/plain": [
              "<Figure size 800x500 with 1 Axes>"
            ],
            "image/png": "[encoded data removed]"
          },
          "metadata": {}
        }
      ]
    },
    {
      "cell_type": "markdown",
      "source": [
        "**Calculate Sentiment Score-Based comments**"
      ],
      "metadata": {
        "id": "FqPu0Ot3qquk"
      }
    },
    {
      "cell_type": "code",
      "source": [
        "def calculate_sentiment_score(comment):\n",
        "\n",
        "    blob = TextBlob(comment)\n",
        "    sentiment_score = blob.sentiment.polarity\n",
        "\n",
        "    if sentiment_score > 0.5:\n",
        "        return 5\n",
        "    elif sentiment_score > 0.2:\n",
        "        return 4\n",
        "    elif sentiment_score > -0.2:\n",
        "        return 3\n",
        "    elif sentiment_score > -0.5:\n",
        "        return 2\n",
        "    else:\n",
        "        return 1\n",
        "\n",
        "data['SentimentRating'] = data['Full_Text'].apply(calculate_sentiment_score)"
      ],
      "metadata": {
        "id": "sgWR-3q_oKGW"
      },
      "execution_count": 22,
      "outputs": []
    },
    {
      "cell_type": "markdown",
      "source": [
        "**Calculate Overall Rating from Comments**"
      ],
      "metadata": {
        "id": "jcnO98bqorBH"
      }
    },
    {
      "cell_type": "code",
      "source": [
        "def calculate_overall_rating(sentiment_ratings):\n",
        "\n",
        "    return round(sentiment_ratings.mean(),2)\n",
        "\n",
        "\n",
        "overall_rating = calculate_overall_rating(data['SentimentRating'])\n",
        "print(\"Overall Sentiment-Based Rating:\", overall_rating)"
      ],
      "metadata": {
        "colab": {
          "base_uri": "https://localhost:8080/"
        },
        "id": "qx1amrxpoMSM",
        "outputId": "0756944e-80fc-4e1e-dbb4-871817c11130"
      },
      "execution_count": 23,
      "outputs": [
        {
          "output_type": "stream",
          "name": "stdout",
          "text": [
            "Overall Sentiment-Based Rating: 4.3\n"
          ]
        }
      ]
    },
    {
      "cell_type": "markdown",
      "source": [
        "**Product Prediction**"
      ],
      "metadata": {
        "id": "36B9uHw_oRiW"
      }
    },
    {
      "cell_type": "code",
      "source": [
        "# Step 4: Predict Good/Okay/Bad based on Sentiment Rating\n",
        "def predict_rating_category(rating):\n",
        "    if rating >= 4:\n",
        "        return \"Good\"\n",
        "    elif 2 <= rating < 4:\n",
        "        return \"Okay\"\n",
        "    else:\n",
        "        return \"Bad\"\n",
        "\n",
        "product_category = predict_rating_category(overall_rating)\n",
        "print(\"Product Category (Sentiment-Based):\", product_category)"
      ],
      "metadata": {
        "colab": {
          "base_uri": "https://localhost:8080/"
        },
        "id": "upkaCGg9oQVv",
        "outputId": "3d45b989-eb7b-475f-ed27-a26d5f615679"
      },
      "execution_count": 28,
      "outputs": [
        {
          "output_type": "stream",
          "name": "stdout",
          "text": [
            "Product Category (Sentiment-Based): Good\n"
          ]
        }
      ]
    },
    {
      "cell_type": "code",
      "source": [
        "# Calculate the accuracy\n",
        "accuracy = accuracy_score(data['Rating'],data['SentimentRating'])\n",
        "print(\"Accuracy:\", accuracy)"
      ],
      "metadata": {
        "colab": {
          "base_uri": "https://localhost:8080/"
        },
        "id": "aYe3ERYSyRsy",
        "outputId": "42358d3e-4a81-4d43-ee6e-6c6f70d2ebfc"
      },
      "execution_count": 42,
      "outputs": [
        {
          "output_type": "stream",
          "name": "stdout",
          "text": [
            "Accuracy: 0.38421052631578945\n"
          ]
        }
      ]
    },
    {
      "cell_type": "markdown",
      "source": [
        "**Product Analysis**"
      ],
      "metadata": {
        "id": "9CUMqi3Jx0WS"
      }
    },
    {
      "cell_type": "code",
      "source": [
        "print(summary)\n",
        "print()\n",
        "print(\"Overall Sentiment-Based Rating:\", overall_rating)\n",
        "print()\n",
        "print(\"Product Category (Sentiment-Based):\", product_category)"
      ],
      "metadata": {
        "colab": {
          "base_uri": "https://localhost:8080/"
        },
        "id": "xZiccGjgx3X1",
        "outputId": "d054ecd0-931f-4598-aa3d-223791dfa759"
      },
      "execution_count": 33,
      "outputs": [
        {
          "output_type": "stream",
          "name": "stdout",
          "text": [
            "more brilliant slightly slow go for 4gb version phone is goodread more terrible product u cheated meu took yr phone and my money alsoread more worthless mic is not working in handfree moderead more worst experience ever bakwas product dont buyno noread more worth every penny its very good phone and tq flipkart read more awesome it is nice phone for one year after one year its start hangread more excellent fnice picread more very poor camera quality  so poorread more dont waste your money not goodread more must buy very good mobile and flipkart qualityread more classy product amazing phone superfast delivery decent camera superior processor good for gaming alsoread more decent product nice product as brand of sumsung but their are something wrong with me in website show the 15v fast charger and give me 9v fast charger this is not goodread more good choice better take the 4gb ram varient camera could have been better battery is awesome so is screen remember the fingerprint sensor is a bit slow rest is goodread more moderate i just bought this mobile there is lots of issue like call volume problem some time mob hang while i am using app or somethingread more nice fingerprints sensor no workpoor cermraread more perfect product awesome product by samsung tq flipkartread more perfect product awesome product by samsung tq flipkartread more pretty good its okokread more could be way better this hang so muchnot looked like from samsung my earlier phone j7 much faster then itread more nice camara not a great in this timesdisplay size is super but not quality of colour strengthphone performace looks ok not any big lag issues touch and finger print are upto markread more unsatisfactory money westread more good choice good  for price rangeread more moderate phone is good but charging problem charging port is not connecting properlyread more good quality product satisfied with the productfront camera is not very goodback camera is fineread more not recommended at all i want to replace it but my return policy is rejected the device m11 is very poor quality camera quality too badafter clicking camera photo blur type save in galary please dont purchase itread more worthless poor quality display and camera  touch not properly workread more useless product worst front camera  dont busy not for value moneyread more nice price is high  other then the price ok levelread more worst experience ever dont bayread more horrible camra very bad quality i am sugest not sell samsung galaxy m11read more bad quality doesnt seem that its a samsung phone camera is very poor looks like simple phone such as samsung old phone very disappointed with purchaseread more fabulous excellent performanceread more nice product camera is natural no extra effectread more could be way better camera is very bad there was no rating below 1 \n",
            "i have also thought the same but believe me after purchasing the read more very good my honest rating would be 35 out of 5 camera and display quality is beloe the bar battery backup is amazing pubg is running fine without lag  android 10 and user friendly interface elegant look makes it worth the money expecting a better made in india at this range of money would be injusticeread more best in the market i was looking for a non chinese budget smart phone for my mother to be able to have daily video calls with her and this mobile fits the bill perfectly she is happy using it and video image is crisp with clear sound a big hats off to the flipkart delivery service for making sure the order reached on time without any damage during this difficult times thank you flipkart and ekart for enabling me to meet my mother from abroad on a daily basis read more brilliant it quite an awesome product but its quite overpriced if you like you can go for other company like realme which gives much better specs in the same price range but the delivery service of flipkart was very satisfying i got the product on next day of order thank you flipkart read more perfect product the mobile works really good actually  better  than expected and the payment  didnt  took much time  either  it was really  convenient  during this time of pandemic  i hope for your good health  and thank you for making  our shopping  experience  goodread more very good \n",
            "my phone  damagei retun my phoneread more good choice display is very good battery performance is super but the processor perfomance slow otherwise it is good for normal userscamera is in normal qualityread more must buy processing is very badread more absolute rubbish i have been long time fan of samsung but this series m11 is disappointing pathetic product  not acceptable from samsung  speaker stopped working after 15days of use phone hangs and heating problem there are other sub standard phones with a better build quality then samsung over promised but under delivered please if cant meet expectations or cannot provide service stop promising the same i expect complete replacement of the product or my money back others please dont buyread more simply awesome nice mobileread more fair this phone is not at all made for camera centric users the front camera is of no use but its overall a great device for daily usage with a great battery life and good performance with the snapdragon 450 socthe camera struggles a lot just because of the absence of the gyroscope sensor also the display is a tft panel so the color reproduction is not good as the colours are not punchybut if u are gifting it to your parents it will be great device in this budget segmentread more fair not badread more must buy nice phoneread more worth the money nice productread more pretty good great product superb finger sensor camera qualityslightly challenging while opening sim slotbut thats easily manageableread more wonderful superread more nice goodread more good quality product its okay for this price all aspects are alright except the displaread more awesome excellent read more nice not good as a price not okread more not recommended at all thats is like a old phoneread more just wow super mint blowing purchase its ram and rom is very fast its battery is high backup and it is fast charging 3 hrs to charge 0 \n",
            "i think they are quite overpriced thank youread more highly recommended got it for 11kworth my moneycamera is not badbattery and charging is amazingothers are gooddelivery was also goodgreat purchaseread more wonderful this phone is battery monsteri charged my phone 2 days earlier its still 48this is with 8x zoom it can also take group selfie it gets 100in near about 55minsi am very impressed with this phone i would recommend you not to miss this phone         hindi chini byebyeread more nice product is best in this price but faced issue in opening sim tray finally went to shop and openedthis is only disappointmentread more dont waste your money  real review after buying this samsung m11prosi really doesnt see the pros in this model reason in this phone price too much high in this range but some were listed belowmay be battery is goodyou can uninstall any apps even default apps low weightconscamera quality is worse at this price range  night time and indoor shoot is worse worse in low light selfie camera wide options this all not having that much quality its all looking like we are shooting in a 2mp cameramain bug   unwantedread more unsatisfactory i dont know if it was a problem with only the device i received \n",
            "wow wow nice phone good quality sound and display read more nice product phone is good and working properlyread more valueformoney battery backup is efficientcamera and display are goodperformance also okprice is much higher than its rival brandsread more worth every penny nice mobileread more wonderful goodread more really nice goodread more decent product gdread more terrific purchase goodread more brilliant batter then samsung a50read more nice overall phone is good camera quality is really poor and screen is also not that vibrant colour maturity is not thereread more terrific goodread more excellent good product in budget range smart mobile more over an excellent service from flipkart  delivered in time thanks flipcart read more delightful value for moneyread more classy product not badread more good good but price moreread more nice if you buy a smartphone for normal use then this phone is perfect if you think about good pictures game then i suggest this phone is not for youread more delightful fast delivery by flipcart nice productread more just\n",
            "\n",
            "Overall Sentiment-Based Rating: 4.3\n",
            "\n",
            "Product Category (Sentiment-Based): Good\n"
          ]
        }
      ]
    }
  ]
}